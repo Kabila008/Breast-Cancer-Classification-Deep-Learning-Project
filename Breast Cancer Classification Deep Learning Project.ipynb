{
  "nbformat": 4,
  "nbformat_minor": 0,
  "metadata": {
    "colab": {
      "provenance": []
    },
    "kernelspec": {
      "name": "python3",
      "display_name": "Python 3"
    },
    "accelerator": "GPU"
  },
  "cells": [
    {
      "cell_type": "code",
      "metadata": {
        "id": "XAPZcswkYtHH"
      },
      "source": [
        "import pandas as pd\n",
        "from matplotlib import pyplot as plt\n",
        "import seaborn as sns\n",
        "import numpy as np"
      ],
      "execution_count": null,
      "outputs": []
    },
    {
      "cell_type": "code",
      "metadata": {
        "id": "f_YynwmuewFl"
      },
      "source": [
        "df = pd.read_csv(\"/content/drive/MyDrive/Colab Notebooks/Data/Wisconsin_Breast _Cancer _Dataset.csv\")"
      ],
      "execution_count": null,
      "outputs": []
    },
    {
      "cell_type": "code",
      "metadata": {
        "colab": {
          "base_uri": "https://localhost:8080/"
        },
        "id": "pa-FG-kegPSN",
        "outputId": "a819343d-99ff-42c0-c37d-64aab046db69"
      },
      "source": [
        "print(df.describe().T)\n",
        "#df = df.dropna()"
      ],
      "execution_count": null,
      "outputs": [
        {
          "output_type": "stream",
          "text": [
            "                         count          mean  ...           75%           max\n",
            "id                       569.0  3.037183e+07  ...  8.813129e+06  9.113205e+08\n",
            "radius_mean              569.0  1.412729e+01  ...  1.578000e+01  2.811000e+01\n",
            "texture_mean             569.0  1.928965e+01  ...  2.180000e+01  3.928000e+01\n",
            "perimeter_mean           569.0  9.196903e+01  ...  1.041000e+02  1.885000e+02\n",
            "area_mean                569.0  6.548891e+02  ...  7.827000e+02  2.501000e+03\n",
            "smoothness_mean          569.0  9.636028e-02  ...  1.053000e-01  1.634000e-01\n",
            "compactness_mean         569.0  1.043410e-01  ...  1.304000e-01  3.454000e-01\n",
            "concavity_mean           569.0  8.879932e-02  ...  1.307000e-01  4.268000e-01\n",
            "concave points_mean      569.0  4.891915e-02  ...  7.400000e-02  2.012000e-01\n",
            "symmetry_mean            569.0  1.811619e-01  ...  1.957000e-01  3.040000e-01\n",
            "fractal_dimension_mean   569.0  6.279761e-02  ...  6.612000e-02  9.744000e-02\n",
            "radius_se                569.0  4.051721e-01  ...  4.789000e-01  2.873000e+00\n",
            "texture_se               569.0  1.216853e+00  ...  1.474000e+00  4.885000e+00\n",
            "perimeter_se             569.0  2.866059e+00  ...  3.357000e+00  2.198000e+01\n",
            "area_se                  569.0  4.033708e+01  ...  4.519000e+01  5.422000e+02\n",
            "smoothness_se            569.0  7.040979e-03  ...  8.146000e-03  3.113000e-02\n",
            "compactness_se           569.0  2.547814e-02  ...  3.245000e-02  1.354000e-01\n",
            "concavity_se             569.0  3.189372e-02  ...  4.205000e-02  3.960000e-01\n",
            "concave points_se        569.0  1.179614e-02  ...  1.471000e-02  5.279000e-02\n",
            "symmetry_se              569.0  2.054230e-02  ...  2.348000e-02  7.895000e-02\n",
            "fractal_dimension_se     569.0  3.794904e-03  ...  4.558000e-03  2.984000e-02\n",
            "radius_worst             569.0  1.626919e+01  ...  1.879000e+01  3.604000e+01\n",
            "texture_worst            569.0  2.567722e+01  ...  2.972000e+01  4.954000e+01\n",
            "perimeter_worst          569.0  1.072612e+02  ...  1.254000e+02  2.512000e+02\n",
            "area_worst               569.0  8.805831e+02  ...  1.084000e+03  4.254000e+03\n",
            "smoothness_worst         569.0  1.323686e-01  ...  1.460000e-01  2.226000e-01\n",
            "compactness_worst        569.0  2.542650e-01  ...  3.391000e-01  1.058000e+00\n",
            "concavity_worst          569.0  2.721885e-01  ...  3.829000e-01  1.252000e+00\n",
            "concave points_worst     569.0  1.146062e-01  ...  1.614000e-01  2.910000e-01\n",
            "symmetry_worst           569.0  2.900756e-01  ...  3.179000e-01  6.638000e-01\n",
            "fractal_dimension_worst  569.0  8.394582e-02  ...  9.208000e-02  2.075000e-01\n",
            "Unnamed: 32                0.0           NaN  ...           NaN           NaN\n",
            "\n",
            "[32 rows x 8 columns]\n"
          ],
          "name": "stdout"
        }
      ]
    },
    {
      "cell_type": "code",
      "metadata": {
        "colab": {
          "base_uri": "https://localhost:8080/",
          "height": 241
        },
        "id": "CfM1pmw2JCVZ",
        "outputId": "7c1a7cd1-a8dd-419b-f8a4-55af5a9256a7"
      },
      "source": [
        "df.head()"
      ],
      "execution_count": null,
      "outputs": [
        {
          "output_type": "execute_result",
          "data": {
            "text/html": [
              "<div>\n",
              "<style scoped>\n",
              "    .dataframe tbody tr th:only-of-type {\n",
              "        vertical-align: middle;\n",
              "    }\n",
              "\n",
              "    .dataframe tbody tr th {\n",
              "        vertical-align: top;\n",
              "    }\n",
              "\n",
              "    .dataframe thead th {\n",
              "        text-align: right;\n",
              "    }\n",
              "</style>\n",
              "<table border=\"1\" class=\"dataframe\">\n",
              "  <thead>\n",
              "    <tr style=\"text-align: right;\">\n",
              "      <th></th>\n",
              "      <th>id</th>\n",
              "      <th>diagnosis</th>\n",
              "      <th>radius_mean</th>\n",
              "      <th>texture_mean</th>\n",
              "      <th>perimeter_mean</th>\n",
              "      <th>area_mean</th>\n",
              "      <th>smoothness_mean</th>\n",
              "      <th>compactness_mean</th>\n",
              "      <th>concavity_mean</th>\n",
              "      <th>concave points_mean</th>\n",
              "      <th>symmetry_mean</th>\n",
              "      <th>fractal_dimension_mean</th>\n",
              "      <th>radius_se</th>\n",
              "      <th>texture_se</th>\n",
              "      <th>perimeter_se</th>\n",
              "      <th>area_se</th>\n",
              "      <th>smoothness_se</th>\n",
              "      <th>compactness_se</th>\n",
              "      <th>concavity_se</th>\n",
              "      <th>concave points_se</th>\n",
              "      <th>symmetry_se</th>\n",
              "      <th>fractal_dimension_se</th>\n",
              "      <th>radius_worst</th>\n",
              "      <th>texture_worst</th>\n",
              "      <th>perimeter_worst</th>\n",
              "      <th>area_worst</th>\n",
              "      <th>smoothness_worst</th>\n",
              "      <th>compactness_worst</th>\n",
              "      <th>concavity_worst</th>\n",
              "      <th>concave points_worst</th>\n",
              "      <th>symmetry_worst</th>\n",
              "      <th>fractal_dimension_worst</th>\n",
              "      <th>Unnamed: 32</th>\n",
              "    </tr>\n",
              "  </thead>\n",
              "  <tbody>\n",
              "    <tr>\n",
              "      <th>0</th>\n",
              "      <td>842302</td>\n",
              "      <td>M</td>\n",
              "      <td>17.99</td>\n",
              "      <td>10.38</td>\n",
              "      <td>122.80</td>\n",
              "      <td>1001.0</td>\n",
              "      <td>0.11840</td>\n",
              "      <td>0.27760</td>\n",
              "      <td>0.3001</td>\n",
              "      <td>0.14710</td>\n",
              "      <td>0.2419</td>\n",
              "      <td>0.07871</td>\n",
              "      <td>1.0950</td>\n",
              "      <td>0.9053</td>\n",
              "      <td>8.589</td>\n",
              "      <td>153.40</td>\n",
              "      <td>0.006399</td>\n",
              "      <td>0.04904</td>\n",
              "      <td>0.05373</td>\n",
              "      <td>0.01587</td>\n",
              "      <td>0.03003</td>\n",
              "      <td>0.006193</td>\n",
              "      <td>25.38</td>\n",
              "      <td>17.33</td>\n",
              "      <td>184.60</td>\n",
              "      <td>2019.0</td>\n",
              "      <td>0.1622</td>\n",
              "      <td>0.6656</td>\n",
              "      <td>0.7119</td>\n",
              "      <td>0.2654</td>\n",
              "      <td>0.4601</td>\n",
              "      <td>0.11890</td>\n",
              "      <td>NaN</td>\n",
              "    </tr>\n",
              "    <tr>\n",
              "      <th>1</th>\n",
              "      <td>842517</td>\n",
              "      <td>M</td>\n",
              "      <td>20.57</td>\n",
              "      <td>17.77</td>\n",
              "      <td>132.90</td>\n",
              "      <td>1326.0</td>\n",
              "      <td>0.08474</td>\n",
              "      <td>0.07864</td>\n",
              "      <td>0.0869</td>\n",
              "      <td>0.07017</td>\n",
              "      <td>0.1812</td>\n",
              "      <td>0.05667</td>\n",
              "      <td>0.5435</td>\n",
              "      <td>0.7339</td>\n",
              "      <td>3.398</td>\n",
              "      <td>74.08</td>\n",
              "      <td>0.005225</td>\n",
              "      <td>0.01308</td>\n",
              "      <td>0.01860</td>\n",
              "      <td>0.01340</td>\n",
              "      <td>0.01389</td>\n",
              "      <td>0.003532</td>\n",
              "      <td>24.99</td>\n",
              "      <td>23.41</td>\n",
              "      <td>158.80</td>\n",
              "      <td>1956.0</td>\n",
              "      <td>0.1238</td>\n",
              "      <td>0.1866</td>\n",
              "      <td>0.2416</td>\n",
              "      <td>0.1860</td>\n",
              "      <td>0.2750</td>\n",
              "      <td>0.08902</td>\n",
              "      <td>NaN</td>\n",
              "    </tr>\n",
              "    <tr>\n",
              "      <th>2</th>\n",
              "      <td>84300903</td>\n",
              "      <td>M</td>\n",
              "      <td>19.69</td>\n",
              "      <td>21.25</td>\n",
              "      <td>130.00</td>\n",
              "      <td>1203.0</td>\n",
              "      <td>0.10960</td>\n",
              "      <td>0.15990</td>\n",
              "      <td>0.1974</td>\n",
              "      <td>0.12790</td>\n",
              "      <td>0.2069</td>\n",
              "      <td>0.05999</td>\n",
              "      <td>0.7456</td>\n",
              "      <td>0.7869</td>\n",
              "      <td>4.585</td>\n",
              "      <td>94.03</td>\n",
              "      <td>0.006150</td>\n",
              "      <td>0.04006</td>\n",
              "      <td>0.03832</td>\n",
              "      <td>0.02058</td>\n",
              "      <td>0.02250</td>\n",
              "      <td>0.004571</td>\n",
              "      <td>23.57</td>\n",
              "      <td>25.53</td>\n",
              "      <td>152.50</td>\n",
              "      <td>1709.0</td>\n",
              "      <td>0.1444</td>\n",
              "      <td>0.4245</td>\n",
              "      <td>0.4504</td>\n",
              "      <td>0.2430</td>\n",
              "      <td>0.3613</td>\n",
              "      <td>0.08758</td>\n",
              "      <td>NaN</td>\n",
              "    </tr>\n",
              "    <tr>\n",
              "      <th>3</th>\n",
              "      <td>84348301</td>\n",
              "      <td>M</td>\n",
              "      <td>11.42</td>\n",
              "      <td>20.38</td>\n",
              "      <td>77.58</td>\n",
              "      <td>386.1</td>\n",
              "      <td>0.14250</td>\n",
              "      <td>0.28390</td>\n",
              "      <td>0.2414</td>\n",
              "      <td>0.10520</td>\n",
              "      <td>0.2597</td>\n",
              "      <td>0.09744</td>\n",
              "      <td>0.4956</td>\n",
              "      <td>1.1560</td>\n",
              "      <td>3.445</td>\n",
              "      <td>27.23</td>\n",
              "      <td>0.009110</td>\n",
              "      <td>0.07458</td>\n",
              "      <td>0.05661</td>\n",
              "      <td>0.01867</td>\n",
              "      <td>0.05963</td>\n",
              "      <td>0.009208</td>\n",
              "      <td>14.91</td>\n",
              "      <td>26.50</td>\n",
              "      <td>98.87</td>\n",
              "      <td>567.7</td>\n",
              "      <td>0.2098</td>\n",
              "      <td>0.8663</td>\n",
              "      <td>0.6869</td>\n",
              "      <td>0.2575</td>\n",
              "      <td>0.6638</td>\n",
              "      <td>0.17300</td>\n",
              "      <td>NaN</td>\n",
              "    </tr>\n",
              "    <tr>\n",
              "      <th>4</th>\n",
              "      <td>84358402</td>\n",
              "      <td>M</td>\n",
              "      <td>20.29</td>\n",
              "      <td>14.34</td>\n",
              "      <td>135.10</td>\n",
              "      <td>1297.0</td>\n",
              "      <td>0.10030</td>\n",
              "      <td>0.13280</td>\n",
              "      <td>0.1980</td>\n",
              "      <td>0.10430</td>\n",
              "      <td>0.1809</td>\n",
              "      <td>0.05883</td>\n",
              "      <td>0.7572</td>\n",
              "      <td>0.7813</td>\n",
              "      <td>5.438</td>\n",
              "      <td>94.44</td>\n",
              "      <td>0.011490</td>\n",
              "      <td>0.02461</td>\n",
              "      <td>0.05688</td>\n",
              "      <td>0.01885</td>\n",
              "      <td>0.01756</td>\n",
              "      <td>0.005115</td>\n",
              "      <td>22.54</td>\n",
              "      <td>16.67</td>\n",
              "      <td>152.20</td>\n",
              "      <td>1575.0</td>\n",
              "      <td>0.1374</td>\n",
              "      <td>0.2050</td>\n",
              "      <td>0.4000</td>\n",
              "      <td>0.1625</td>\n",
              "      <td>0.2364</td>\n",
              "      <td>0.07678</td>\n",
              "      <td>NaN</td>\n",
              "    </tr>\n",
              "  </tbody>\n",
              "</table>\n",
              "</div>"
            ],
            "text/plain": [
              "         id diagnosis  ...  fractal_dimension_worst  Unnamed: 32\n",
              "0    842302         M  ...                  0.11890          NaN\n",
              "1    842517         M  ...                  0.08902          NaN\n",
              "2  84300903         M  ...                  0.08758          NaN\n",
              "3  84348301         M  ...                  0.17300          NaN\n",
              "4  84358402         M  ...                  0.07678          NaN\n",
              "\n",
              "[5 rows x 33 columns]"
            ]
          },
          "metadata": {
            "tags": []
          },
          "execution_count": 10
        }
      ]
    },
    {
      "cell_type": "code",
      "metadata": {
        "colab": {
          "base_uri": "https://localhost:8080/"
        },
        "id": "NYH7ibtTJPmH",
        "outputId": "77cb6a27-dd50-4fe1-ea41-5a07ed68a8df"
      },
      "source": [
        "df.shape"
      ],
      "execution_count": null,
      "outputs": [
        {
          "output_type": "execute_result",
          "data": {
            "text/plain": [
              "(569, 33)"
            ]
          },
          "metadata": {
            "tags": []
          },
          "execution_count": 11
        }
      ]
    },
    {
      "cell_type": "code",
      "metadata": {
        "colab": {
          "base_uri": "https://localhost:8080/"
        },
        "id": "Us8nOzMkJSnC",
        "outputId": "f9bbcba1-321a-4b96-8e40-9efc8c2294ff"
      },
      "source": [
        "df.info()"
      ],
      "execution_count": null,
      "outputs": [
        {
          "output_type": "stream",
          "text": [
            "<class 'pandas.core.frame.DataFrame'>\n",
            "RangeIndex: 569 entries, 0 to 568\n",
            "Data columns (total 33 columns):\n",
            " #   Column                   Non-Null Count  Dtype  \n",
            "---  ------                   --------------  -----  \n",
            " 0   id                       569 non-null    int64  \n",
            " 1   diagnosis                569 non-null    object \n",
            " 2   radius_mean              569 non-null    float64\n",
            " 3   texture_mean             569 non-null    float64\n",
            " 4   perimeter_mean           569 non-null    float64\n",
            " 5   area_mean                569 non-null    float64\n",
            " 6   smoothness_mean          569 non-null    float64\n",
            " 7   compactness_mean         569 non-null    float64\n",
            " 8   concavity_mean           569 non-null    float64\n",
            " 9   concave points_mean      569 non-null    float64\n",
            " 10  symmetry_mean            569 non-null    float64\n",
            " 11  fractal_dimension_mean   569 non-null    float64\n",
            " 12  radius_se                569 non-null    float64\n",
            " 13  texture_se               569 non-null    float64\n",
            " 14  perimeter_se             569 non-null    float64\n",
            " 15  area_se                  569 non-null    float64\n",
            " 16  smoothness_se            569 non-null    float64\n",
            " 17  compactness_se           569 non-null    float64\n",
            " 18  concavity_se             569 non-null    float64\n",
            " 19  concave points_se        569 non-null    float64\n",
            " 20  symmetry_se              569 non-null    float64\n",
            " 21  fractal_dimension_se     569 non-null    float64\n",
            " 22  radius_worst             569 non-null    float64\n",
            " 23  texture_worst            569 non-null    float64\n",
            " 24  perimeter_worst          569 non-null    float64\n",
            " 25  area_worst               569 non-null    float64\n",
            " 26  smoothness_worst         569 non-null    float64\n",
            " 27  compactness_worst        569 non-null    float64\n",
            " 28  concavity_worst          569 non-null    float64\n",
            " 29  concave points_worst     569 non-null    float64\n",
            " 30  symmetry_worst           569 non-null    float64\n",
            " 31  fractal_dimension_worst  569 non-null    float64\n",
            " 32  Unnamed: 32              0 non-null      float64\n",
            "dtypes: float64(31), int64(1), object(1)\n",
            "memory usage: 146.8+ KB\n"
          ],
          "name": "stdout"
        }
      ]
    },
    {
      "cell_type": "code",
      "metadata": {
        "id": "hUEYrIu8Ji2a"
      },
      "source": [
        "df = df.drop('Unnamed: 32', axis = 'columns')"
      ],
      "execution_count": null,
      "outputs": []
    },
    {
      "cell_type": "code",
      "metadata": {
        "colab": {
          "base_uri": "https://localhost:8080/"
        },
        "id": "ZoLtOFuujK_x",
        "outputId": "416a5c26-1621-41d4-901a-148d6642401c"
      },
      "source": [
        "print(df.isnull().sum())\n"
      ],
      "execution_count": null,
      "outputs": [
        {
          "output_type": "stream",
          "text": [
            "id                         0\n",
            "diagnosis                  0\n",
            "radius_mean                0\n",
            "texture_mean               0\n",
            "perimeter_mean             0\n",
            "area_mean                  0\n",
            "smoothness_mean            0\n",
            "compactness_mean           0\n",
            "concavity_mean             0\n",
            "concave points_mean        0\n",
            "symmetry_mean              0\n",
            "fractal_dimension_mean     0\n",
            "radius_se                  0\n",
            "texture_se                 0\n",
            "perimeter_se               0\n",
            "area_se                    0\n",
            "smoothness_se              0\n",
            "compactness_se             0\n",
            "concavity_se               0\n",
            "concave points_se          0\n",
            "symmetry_se                0\n",
            "fractal_dimension_se       0\n",
            "radius_worst               0\n",
            "texture_worst              0\n",
            "perimeter_worst            0\n",
            "area_worst                 0\n",
            "smoothness_worst           0\n",
            "compactness_worst          0\n",
            "concavity_worst            0\n",
            "concave points_worst       0\n",
            "symmetry_worst             0\n",
            "fractal_dimension_worst    0\n",
            "dtype: int64\n"
          ],
          "name": "stdout"
        }
      ]
    },
    {
      "cell_type": "code",
      "metadata": {
        "colab": {
          "base_uri": "https://localhost:8080/"
        },
        "id": "hh34quEOjRoB",
        "outputId": "be609b34-0415-4434-9c92-39e37bcadf25"
      },
      "source": [
        "#Rename Dataset to Label to make it easy to understand\n",
        "df = df.rename(columns={'diagnosis':'Label'})\n",
        "print(df.dtypes)"
      ],
      "execution_count": null,
      "outputs": [
        {
          "output_type": "stream",
          "text": [
            "id                           int64\n",
            "Label                       object\n",
            "radius_mean                float64\n",
            "texture_mean               float64\n",
            "perimeter_mean             float64\n",
            "area_mean                  float64\n",
            "smoothness_mean            float64\n",
            "compactness_mean           float64\n",
            "concavity_mean             float64\n",
            "concave points_mean        float64\n",
            "symmetry_mean              float64\n",
            "fractal_dimension_mean     float64\n",
            "radius_se                  float64\n",
            "texture_se                 float64\n",
            "perimeter_se               float64\n",
            "area_se                    float64\n",
            "smoothness_se              float64\n",
            "compactness_se             float64\n",
            "concavity_se               float64\n",
            "concave points_se          float64\n",
            "symmetry_se                float64\n",
            "fractal_dimension_se       float64\n",
            "radius_worst               float64\n",
            "texture_worst              float64\n",
            "perimeter_worst            float64\n",
            "area_worst                 float64\n",
            "smoothness_worst           float64\n",
            "compactness_worst          float64\n",
            "concavity_worst            float64\n",
            "concave points_worst       float64\n",
            "symmetry_worst             float64\n",
            "fractal_dimension_worst    float64\n",
            "dtype: object\n"
          ],
          "name": "stdout"
        }
      ]
    },
    {
      "cell_type": "code",
      "metadata": {
        "colab": {
          "base_uri": "https://localhost:8080/",
          "height": 296
        },
        "id": "xr9ixJPPjVdH",
        "outputId": "80c8e7cc-7db3-4e10-b2ae-10c370b22aa1"
      },
      "source": [
        "#Understand the data\n",
        "sns.countplot(x=\"Label\", data=df) #M - malignant   B - benign"
      ],
      "execution_count": null,
      "outputs": [
        {
          "output_type": "execute_result",
          "data": {
            "text/plain": [
              "<matplotlib.axes._subplots.AxesSubplot at 0x7f673c24fa10>"
            ]
          },
          "metadata": {
            "tags": []
          },
          "execution_count": 16
        },
        {
          "output_type": "display_data",
          "data": {
            "image/png": "[encoded data removed]",
            "text/plain": [
              "<Figure size 432x288 with 1 Axes>"
            ]
          },
          "metadata": {
            "tags": [],
            "needs_background": "light"
          }
        }
      ]
    },
    {
      "cell_type": "code",
      "metadata": {
        "colab": {
          "base_uri": "https://localhost:8080/"
        },
        "id": "PgQQmqdXjafc",
        "outputId": "981a4c42-7afd-4848-b128-dfbbd77b079b"
      },
      "source": [
        "####### Replace categorical values with numbers########\n",
        "print(\"Distribution of data: \", df['Label'].value_counts())\n",
        "\n",
        "#Define the dependent variable that needs to be predicted (labels)\n",
        "y = df[\"Label\"].values\n",
        "print(\"Labels before encoding are: \", np.unique(y))\n",
        "\n",
        "# Encoding categorical data from text (B and M) to integers (0 and 1)\n",
        "from sklearn.preprocessing import LabelEncoder\n",
        "labelencoder = LabelEncoder()\n",
        "Y = labelencoder.fit_transform(y) # M=1 and B=0\n",
        "print(\"Labels after encoding are: \", np.unique(Y))"
      ],
      "execution_count": null,
      "outputs": [
        {
          "output_type": "stream",
          "text": [
            "Distribution of data:  B    357\n",
            "M    212\n",
            "Name: Label, dtype: int64\n",
            "Labels before encoding are:  ['B' 'M']\n",
            "Labels after encoding are:  [0 1]\n"
          ],
          "name": "stdout"
        }
      ]
    },
    {
      "cell_type": "code",
      "metadata": {
        "colab": {
          "base_uri": "https://localhost:8080/"
        },
        "id": "ADVC360OjhJb",
        "outputId": "3ac51304-21ad-4cab-a302-426a32b745d0"
      },
      "source": [
        "#Define x and normalize / scale values\n",
        "\n",
        "#Define the independent variables. Drop label and ID, and normalize other data\n",
        "X = df.drop(labels = [\"Label\", \"id\"], axis=1)\n",
        "print(X.describe().T) #Needs scaling"
      ],
      "execution_count": null,
      "outputs": [
        {
          "output_type": "stream",
          "text": [
            "                         count        mean  ...          75%         max\n",
            "radius_mean              569.0   14.127292  ...    15.780000    28.11000\n",
            "texture_mean             569.0   19.289649  ...    21.800000    39.28000\n",
            "perimeter_mean           569.0   91.969033  ...   104.100000   188.50000\n",
            "area_mean                569.0  654.889104  ...   782.700000  2501.00000\n",
            "smoothness_mean          569.0    0.096360  ...     0.105300     0.16340\n",
            "compactness_mean         569.0    0.104341  ...     0.130400     0.34540\n",
            "concavity_mean           569.0    0.088799  ...     0.130700     0.42680\n",
            "concave points_mean      569.0    0.048919  ...     0.074000     0.20120\n",
            "symmetry_mean            569.0    0.181162  ...     0.195700     0.30400\n",
            "fractal_dimension_mean   569.0    0.062798  ...     0.066120     0.09744\n",
            "radius_se                569.0    0.405172  ...     0.478900     2.87300\n",
            "texture_se               569.0    1.216853  ...     1.474000     4.88500\n",
            "perimeter_se             569.0    2.866059  ...     3.357000    21.98000\n",
            "area_se                  569.0   40.337079  ...    45.190000   542.20000\n",
            "smoothness_se            569.0    0.007041  ...     0.008146     0.03113\n",
            "compactness_se           569.0    0.025478  ...     0.032450     0.13540\n",
            "concavity_se             569.0    0.031894  ...     0.042050     0.39600\n",
            "concave points_se        569.0    0.011796  ...     0.014710     0.05279\n",
            "symmetry_se              569.0    0.020542  ...     0.023480     0.07895\n",
            "fractal_dimension_se     569.0    0.003795  ...     0.004558     0.02984\n",
            "radius_worst             569.0   16.269190  ...    18.790000    36.04000\n",
            "texture_worst            569.0   25.677223  ...    29.720000    49.54000\n",
            "perimeter_worst          569.0  107.261213  ...   125.400000   251.20000\n",
            "area_worst               569.0  880.583128  ...  1084.000000  4254.00000\n",
            "smoothness_worst         569.0    0.132369  ...     0.146000     0.22260\n",
            "compactness_worst        569.0    0.254265  ...     0.339100     1.05800\n",
            "concavity_worst          569.0    0.272188  ...     0.382900     1.25200\n",
            "concave points_worst     569.0    0.114606  ...     0.161400     0.29100\n",
            "symmetry_worst           569.0    0.290076  ...     0.317900     0.66380\n",
            "fractal_dimension_worst  569.0    0.083946  ...     0.092080     0.20750\n",
            "\n",
            "[30 rows x 8 columns]\n"
          ],
          "name": "stdout"
        }
      ]
    },
    {
      "cell_type": "code",
      "metadata": {
        "colab": {
          "base_uri": "https://localhost:8080/"
        },
        "id": "NwxQRUA-jm2F",
        "outputId": "8a0b8686-f6af-47a0-e0f7-8c480414b047"
      },
      "source": [
        "#Scale / normalize the values to bring them to similar range\n",
        "from sklearn.preprocessing import MinMaxScaler\n",
        "scaler = MinMaxScaler()\n",
        "scaler.fit(X)\n",
        "X = scaler.transform(X)\n",
        "print(X)  #Scaled values"
      ],
      "execution_count": null,
      "outputs": [
        {
          "output_type": "stream",
          "text": [
            "[[0.52103744 0.0226581  0.54598853 ... 0.91202749 0.59846245 0.41886396]\n",
            " [0.64314449 0.27257355 0.61578329 ... 0.63917526 0.23358959 0.22287813]\n",
            " [0.60149557 0.3902604  0.59574321 ... 0.83505155 0.40370589 0.21343303]\n",
            " ...\n",
            " [0.45525108 0.62123774 0.44578813 ... 0.48728522 0.12872068 0.1519087 ]\n",
            " [0.64456434 0.66351031 0.66553797 ... 0.91065292 0.49714173 0.45231536]\n",
            " [0.03686876 0.50152181 0.02853984 ... 0.         0.25744136 0.10068215]]\n"
          ],
          "name": "stdout"
        }
      ]
    },
    {
      "cell_type": "code",
      "metadata": {
        "colab": {
          "base_uri": "https://localhost:8080/"
        },
        "id": "tp_c63sxjsaG",
        "outputId": "fb0e8e2d-ae2a-4b2a-f848-a2e48fcf97d2"
      },
      "source": [
        "#Split data into train and test to verify accuracy after fitting the model.\n",
        "from sklearn.model_selection import train_test_split\n",
        "X_train, X_test, y_train, y_test = train_test_split(X, Y, test_size=0.25, random_state=42)\n",
        "print(\"Shape of training data is: \", X_train.shape)\n",
        "print(\"Shape of testing data is: \", X_test.shape)"
      ],
      "execution_count": null,
      "outputs": [
        {
          "output_type": "stream",
          "text": [
            "Shape of training data is:  (426, 30)\n",
            "Shape of testing data is:  (143, 30)\n"
          ],
          "name": "stdout"
        }
      ]
    },
    {
      "cell_type": "code",
      "metadata": {
        "id": "IkHN6AfBjxXG"
      },
      "source": [
        "from keras.models import Sequential\n",
        "from keras.layers import Dense, Activation, Dropout"
      ],
      "execution_count": null,
      "outputs": []
    },
    {
      "cell_type": "markdown",
      "metadata": {
        "id": "NPtmDGYRmikR"
      },
      "source": [
        "Deep Learning Model"
      ]
    },
    {
      "cell_type": "code",
      "metadata": {
        "colab": {
          "base_uri": "https://localhost:8080/"
        },
        "id": "IzSu6e1Cj1sK",
        "outputId": "e224f0dc-8249-479b-bd5e-1e2a4ae3f70e"
      },
      "source": [
        "model = Sequential()\n",
        "model.add(Dense(16, input_dim=30, activation='relu'))\n",
        "model.add(Dropout(0.2))\n",
        "model.add(Dense(1))\n",
        "model.add(Activation('sigmoid'))\n",
        "\n",
        "model.compile(loss='binary_crossentropy', optimizer='adam', metrics=['accuracy'])\n",
        "\n",
        "print(model.summary())"
      ],
      "execution_count": null,
      "outputs": [
        {
          "output_type": "stream",
          "text": [
            "Model: \"sequential\"\n",
            "_________________________________________________________________\n",
            "Layer (type)                 Output Shape              Param #   \n",
            "=================================================================\n",
            "dense (Dense)                (None, 16)                496       \n",
            "_________________________________________________________________\n",
            "dropout (Dropout)            (None, 16)                0         \n",
            "_________________________________________________________________\n",
            "dense_1 (Dense)              (None, 1)                 17        \n",
            "_________________________________________________________________\n",
            "activation (Activation)      (None, 1)                 0         \n",
            "=================================================================\n",
            "Total params: 513\n",
            "Trainable params: 513\n",
            "Non-trainable params: 0\n",
            "_________________________________________________________________\n",
            "None\n"
          ],
          "name": "stdout"
        }
      ]
    },
    {
      "cell_type": "code",
      "metadata": {
        "colab": {
          "base_uri": "https://localhost:8080/"
        },
        "id": "9rlPkvpOj8Kp",
        "outputId": "c3d45102-1f36-48ae-de35-ba49f6270588"
      },
      "source": [
        "#Fit with no early stopping or other callbacks\n",
        "history = model.fit(X_train, y_train, verbose=1, epochs=100, batch_size=64,\n",
        "                     validation_data=(X_test, y_test))"
      ],
      "execution_count": null,
      "outputs": [
        {
          "output_type": "stream",
          "text": [
            "Epoch 1/100\n",
            "7/7 [==============================] - 4s 62ms/step - loss: 0.7092 - accuracy: 0.5661 - val_loss: 0.6864 - val_accuracy: 0.5734\n",
            "Epoch 2/100\n",
            "7/7 [==============================] - 0s 8ms/step - loss: 0.6911 - accuracy: 0.6062 - val_loss: 0.6709 - val_accuracy: 0.6084\n",
            "Epoch 3/100\n",
            "7/7 [==============================] - 0s 7ms/step - loss: 0.6809 - accuracy: 0.6205 - val_loss: 0.6551 - val_accuracy: 0.7203\n",
            "Epoch 4/100\n",
            "7/7 [==============================] - 0s 6ms/step - loss: 0.6589 - accuracy: 0.7210 - val_loss: 0.6404 - val_accuracy: 0.7622\n",
            "Epoch 5/100\n",
            "7/7 [==============================] - 0s 7ms/step - loss: 0.6534 - accuracy: 0.6806 - val_loss: 0.6269 - val_accuracy: 0.8322\n",
            "Epoch 6/100\n",
            "7/7 [==============================] - 0s 7ms/step - loss: 0.6397 - accuracy: 0.7475 - val_loss: 0.6142 - val_accuracy: 0.8252\n",
            "Epoch 7/100\n",
            "7/7 [==============================] - 0s 6ms/step - loss: 0.6243 - accuracy: 0.7781 - val_loss: 0.6022 - val_accuracy: 0.8462\n",
            "Epoch 8/100\n",
            "7/7 [==============================] - 0s 6ms/step - loss: 0.6106 - accuracy: 0.7988 - val_loss: 0.5900 - val_accuracy: 0.8531\n",
            "Epoch 9/100\n",
            "7/7 [==============================] - 0s 7ms/step - loss: 0.5976 - accuracy: 0.8080 - val_loss: 0.5775 - val_accuracy: 0.8531\n",
            "Epoch 10/100\n",
            "7/7 [==============================] - 0s 6ms/step - loss: 0.5860 - accuracy: 0.8456 - val_loss: 0.5645 - val_accuracy: 0.8601\n",
            "Epoch 11/100\n",
            "7/7 [==============================] - 0s 7ms/step - loss: 0.5766 - accuracy: 0.8502 - val_loss: 0.5514 - val_accuracy: 0.8741\n",
            "Epoch 12/100\n",
            "7/7 [==============================] - 0s 7ms/step - loss: 0.5725 - accuracy: 0.8187 - val_loss: 0.5387 - val_accuracy: 0.8881\n",
            "Epoch 13/100\n",
            "7/7 [==============================] - 0s 7ms/step - loss: 0.5623 - accuracy: 0.8510 - val_loss: 0.5262 - val_accuracy: 0.8951\n",
            "Epoch 14/100\n",
            "7/7 [==============================] - 0s 7ms/step - loss: 0.5381 - accuracy: 0.8532 - val_loss: 0.5133 - val_accuracy: 0.9021\n",
            "Epoch 15/100\n",
            "7/7 [==============================] - 0s 6ms/step - loss: 0.5464 - accuracy: 0.8469 - val_loss: 0.5008 - val_accuracy: 0.9161\n",
            "Epoch 16/100\n",
            "7/7 [==============================] - 0s 7ms/step - loss: 0.5199 - accuracy: 0.8522 - val_loss: 0.4884 - val_accuracy: 0.9231\n",
            "Epoch 17/100\n",
            "7/7 [==============================] - 0s 8ms/step - loss: 0.5077 - accuracy: 0.8772 - val_loss: 0.4758 - val_accuracy: 0.9231\n",
            "Epoch 18/100\n",
            "7/7 [==============================] - 0s 7ms/step - loss: 0.5028 - accuracy: 0.8528 - val_loss: 0.4637 - val_accuracy: 0.9231\n",
            "Epoch 19/100\n",
            "7/7 [==============================] - 0s 7ms/step - loss: 0.4909 - accuracy: 0.8755 - val_loss: 0.4517 - val_accuracy: 0.9301\n",
            "Epoch 20/100\n",
            "7/7 [==============================] - 0s 7ms/step - loss: 0.4742 - accuracy: 0.8773 - val_loss: 0.4395 - val_accuracy: 0.9441\n",
            "Epoch 21/100\n",
            "7/7 [==============================] - 0s 7ms/step - loss: 0.4644 - accuracy: 0.8490 - val_loss: 0.4273 - val_accuracy: 0.9441\n",
            "Epoch 22/100\n",
            "7/7 [==============================] - 0s 7ms/step - loss: 0.4573 - accuracy: 0.8796 - val_loss: 0.4156 - val_accuracy: 0.9441\n",
            "Epoch 23/100\n",
            "7/7 [==============================] - 0s 7ms/step - loss: 0.4540 - accuracy: 0.8668 - val_loss: 0.4044 - val_accuracy: 0.9441\n",
            "Epoch 24/100\n",
            "7/7 [==============================] - 0s 7ms/step - loss: 0.4441 - accuracy: 0.8716 - val_loss: 0.3935 - val_accuracy: 0.9441\n",
            "Epoch 25/100\n",
            "7/7 [==============================] - 0s 7ms/step - loss: 0.4324 - accuracy: 0.8942 - val_loss: 0.3827 - val_accuracy: 0.9441\n",
            "Epoch 26/100\n",
            "7/7 [==============================] - 0s 8ms/step - loss: 0.4331 - accuracy: 0.8808 - val_loss: 0.3725 - val_accuracy: 0.9441\n",
            "Epoch 27/100\n",
            "7/7 [==============================] - 0s 7ms/step - loss: 0.4007 - accuracy: 0.8958 - val_loss: 0.3628 - val_accuracy: 0.9441\n",
            "Epoch 28/100\n",
            "7/7 [==============================] - 0s 6ms/step - loss: 0.4073 - accuracy: 0.8758 - val_loss: 0.3535 - val_accuracy: 0.9441\n",
            "Epoch 29/100\n",
            "7/7 [==============================] - 0s 6ms/step - loss: 0.4106 - accuracy: 0.8638 - val_loss: 0.3448 - val_accuracy: 0.9441\n",
            "Epoch 30/100\n",
            "7/7 [==============================] - 0s 6ms/step - loss: 0.3680 - accuracy: 0.9044 - val_loss: 0.3362 - val_accuracy: 0.9441\n",
            "Epoch 31/100\n",
            "7/7 [==============================] - 0s 7ms/step - loss: 0.3801 - accuracy: 0.9106 - val_loss: 0.3283 - val_accuracy: 0.9441\n",
            "Epoch 32/100\n",
            "7/7 [==============================] - 0s 6ms/step - loss: 0.3640 - accuracy: 0.8905 - val_loss: 0.3204 - val_accuracy: 0.9510\n",
            "Epoch 33/100\n",
            "7/7 [==============================] - 0s 7ms/step - loss: 0.3515 - accuracy: 0.9065 - val_loss: 0.3127 - val_accuracy: 0.9510\n",
            "Epoch 34/100\n",
            "7/7 [==============================] - 0s 7ms/step - loss: 0.3469 - accuracy: 0.8898 - val_loss: 0.3056 - val_accuracy: 0.9510\n",
            "Epoch 35/100\n",
            "7/7 [==============================] - 0s 7ms/step - loss: 0.3550 - accuracy: 0.8922 - val_loss: 0.2993 - val_accuracy: 0.9580\n",
            "Epoch 36/100\n",
            "7/7 [==============================] - 0s 7ms/step - loss: 0.3444 - accuracy: 0.9190 - val_loss: 0.2922 - val_accuracy: 0.9580\n",
            "Epoch 37/100\n",
            "7/7 [==============================] - 0s 7ms/step - loss: 0.3461 - accuracy: 0.8827 - val_loss: 0.2854 - val_accuracy: 0.9580\n",
            "Epoch 38/100\n",
            "7/7 [==============================] - 0s 7ms/step - loss: 0.3256 - accuracy: 0.8901 - val_loss: 0.2792 - val_accuracy: 0.9580\n",
            "Epoch 39/100\n",
            "7/7 [==============================] - 0s 8ms/step - loss: 0.3241 - accuracy: 0.8990 - val_loss: 0.2736 - val_accuracy: 0.9580\n",
            "Epoch 40/100\n",
            "7/7 [==============================] - 0s 7ms/step - loss: 0.3490 - accuracy: 0.8922 - val_loss: 0.2685 - val_accuracy: 0.9650\n",
            "Epoch 41/100\n",
            "7/7 [==============================] - 0s 7ms/step - loss: 0.3397 - accuracy: 0.8578 - val_loss: 0.2635 - val_accuracy: 0.9650\n",
            "Epoch 42/100\n",
            "7/7 [==============================] - 0s 7ms/step - loss: 0.3145 - accuracy: 0.8881 - val_loss: 0.2585 - val_accuracy: 0.9650\n",
            "Epoch 43/100\n",
            "7/7 [==============================] - 0s 7ms/step - loss: 0.2784 - accuracy: 0.9269 - val_loss: 0.2529 - val_accuracy: 0.9580\n",
            "Epoch 44/100\n",
            "7/7 [==============================] - 0s 7ms/step - loss: 0.3014 - accuracy: 0.8887 - val_loss: 0.2484 - val_accuracy: 0.9650\n",
            "Epoch 45/100\n",
            "7/7 [==============================] - 0s 7ms/step - loss: 0.3191 - accuracy: 0.8910 - val_loss: 0.2447 - val_accuracy: 0.9650\n",
            "Epoch 46/100\n",
            "7/7 [==============================] - 0s 7ms/step - loss: 0.3041 - accuracy: 0.9109 - val_loss: 0.2406 - val_accuracy: 0.9580\n",
            "Epoch 47/100\n",
            "7/7 [==============================] - 0s 7ms/step - loss: 0.3048 - accuracy: 0.8773 - val_loss: 0.2367 - val_accuracy: 0.9580\n",
            "Epoch 48/100\n",
            "7/7 [==============================] - 0s 9ms/step - loss: 0.2887 - accuracy: 0.8987 - val_loss: 0.2322 - val_accuracy: 0.9650\n",
            "Epoch 49/100\n",
            "7/7 [==============================] - 0s 6ms/step - loss: 0.2841 - accuracy: 0.8978 - val_loss: 0.2283 - val_accuracy: 0.9650\n",
            "Epoch 50/100\n",
            "7/7 [==============================] - 0s 6ms/step - loss: 0.2867 - accuracy: 0.9073 - val_loss: 0.2250 - val_accuracy: 0.9650\n",
            "Epoch 51/100\n",
            "7/7 [==============================] - 0s 6ms/step - loss: 0.3038 - accuracy: 0.9029 - val_loss: 0.2217 - val_accuracy: 0.9580\n",
            "Epoch 52/100\n",
            "7/7 [==============================] - 0s 7ms/step - loss: 0.3013 - accuracy: 0.8815 - val_loss: 0.2186 - val_accuracy: 0.9580\n",
            "Epoch 53/100\n",
            "7/7 [==============================] - 0s 7ms/step - loss: 0.2522 - accuracy: 0.9187 - val_loss: 0.2151 - val_accuracy: 0.9580\n",
            "Epoch 54/100\n",
            "7/7 [==============================] - 0s 7ms/step - loss: 0.2655 - accuracy: 0.9157 - val_loss: 0.2119 - val_accuracy: 0.9580\n",
            "Epoch 55/100\n",
            "7/7 [==============================] - 0s 7ms/step - loss: 0.2833 - accuracy: 0.8966 - val_loss: 0.2088 - val_accuracy: 0.9580\n",
            "Epoch 56/100\n",
            "7/7 [==============================] - 0s 7ms/step - loss: 0.2474 - accuracy: 0.9188 - val_loss: 0.2047 - val_accuracy: 0.9650\n",
            "Epoch 57/100\n",
            "7/7 [==============================] - 0s 7ms/step - loss: 0.2677 - accuracy: 0.9023 - val_loss: 0.2017 - val_accuracy: 0.9650\n",
            "Epoch 58/100\n",
            "7/7 [==============================] - 0s 7ms/step - loss: 0.2539 - accuracy: 0.9164 - val_loss: 0.1991 - val_accuracy: 0.9650\n",
            "Epoch 59/100\n",
            "7/7 [==============================] - 0s 8ms/step - loss: 0.2563 - accuracy: 0.9297 - val_loss: 0.1966 - val_accuracy: 0.9650\n",
            "Epoch 60/100\n",
            "7/7 [==============================] - 0s 8ms/step - loss: 0.2618 - accuracy: 0.9137 - val_loss: 0.1942 - val_accuracy: 0.9580\n",
            "Epoch 61/100\n",
            "7/7 [==============================] - 0s 8ms/step - loss: 0.2849 - accuracy: 0.8717 - val_loss: 0.1921 - val_accuracy: 0.9510\n",
            "Epoch 62/100\n",
            "7/7 [==============================] - 0s 7ms/step - loss: 0.2559 - accuracy: 0.9087 - val_loss: 0.1897 - val_accuracy: 0.9510\n",
            "Epoch 63/100\n",
            "7/7 [==============================] - 0s 7ms/step - loss: 0.2469 - accuracy: 0.9012 - val_loss: 0.1876 - val_accuracy: 0.9510\n",
            "Epoch 64/100\n",
            "7/7 [==============================] - 0s 6ms/step - loss: 0.2609 - accuracy: 0.9008 - val_loss: 0.1843 - val_accuracy: 0.9720\n",
            "Epoch 65/100\n",
            "7/7 [==============================] - 0s 7ms/step - loss: 0.2248 - accuracy: 0.9195 - val_loss: 0.1817 - val_accuracy: 0.9720\n",
            "Epoch 66/100\n",
            "7/7 [==============================] - 0s 6ms/step - loss: 0.2329 - accuracy: 0.9308 - val_loss: 0.1799 - val_accuracy: 0.9650\n",
            "Epoch 67/100\n",
            "7/7 [==============================] - 0s 7ms/step - loss: 0.2417 - accuracy: 0.9011 - val_loss: 0.1781 - val_accuracy: 0.9650\n",
            "Epoch 68/100\n",
            "7/7 [==============================] - 0s 7ms/step - loss: 0.2192 - accuracy: 0.9295 - val_loss: 0.1763 - val_accuracy: 0.9650\n",
            "Epoch 69/100\n",
            "7/7 [==============================] - 0s 7ms/step - loss: 0.2491 - accuracy: 0.9080 - val_loss: 0.1746 - val_accuracy: 0.9580\n",
            "Epoch 70/100\n",
            "7/7 [==============================] - 0s 7ms/step - loss: 0.2182 - accuracy: 0.9412 - val_loss: 0.1713 - val_accuracy: 0.9650\n",
            "Epoch 71/100\n",
            "7/7 [==============================] - 0s 7ms/step - loss: 0.2343 - accuracy: 0.9160 - val_loss: 0.1688 - val_accuracy: 0.9720\n",
            "Epoch 72/100\n",
            "7/7 [==============================] - 0s 7ms/step - loss: 0.2132 - accuracy: 0.9276 - val_loss: 0.1675 - val_accuracy: 0.9650\n",
            "Epoch 73/100\n",
            "7/7 [==============================] - 0s 7ms/step - loss: 0.2282 - accuracy: 0.9127 - val_loss: 0.1663 - val_accuracy: 0.9650\n",
            "Epoch 74/100\n",
            "7/7 [==============================] - 0s 7ms/step - loss: 0.2354 - accuracy: 0.9118 - val_loss: 0.1653 - val_accuracy: 0.9580\n",
            "Epoch 75/100\n",
            "7/7 [==============================] - 0s 6ms/step - loss: 0.2152 - accuracy: 0.9391 - val_loss: 0.1630 - val_accuracy: 0.9650\n",
            "Epoch 76/100\n",
            "7/7 [==============================] - 0s 6ms/step - loss: 0.2251 - accuracy: 0.9175 - val_loss: 0.1608 - val_accuracy: 0.9650\n",
            "Epoch 77/100\n",
            "7/7 [==============================] - 0s 6ms/step - loss: 0.1934 - accuracy: 0.9388 - val_loss: 0.1592 - val_accuracy: 0.9650\n",
            "Epoch 78/100\n",
            "7/7 [==============================] - 0s 6ms/step - loss: 0.2063 - accuracy: 0.9279 - val_loss: 0.1576 - val_accuracy: 0.9650\n",
            "Epoch 79/100\n",
            "7/7 [==============================] - 0s 6ms/step - loss: 0.2077 - accuracy: 0.9223 - val_loss: 0.1559 - val_accuracy: 0.9650\n",
            "Epoch 80/100\n",
            "7/7 [==============================] - 0s 7ms/step - loss: 0.2323 - accuracy: 0.9304 - val_loss: 0.1555 - val_accuracy: 0.9580\n",
            "Epoch 81/100\n",
            "7/7 [==============================] - 0s 8ms/step - loss: 0.2173 - accuracy: 0.9149 - val_loss: 0.1550 - val_accuracy: 0.9580\n",
            "Epoch 82/100\n",
            "7/7 [==============================] - 0s 7ms/step - loss: 0.2092 - accuracy: 0.9224 - val_loss: 0.1525 - val_accuracy: 0.9580\n",
            "Epoch 83/100\n",
            "7/7 [==============================] - 0s 7ms/step - loss: 0.1991 - accuracy: 0.9450 - val_loss: 0.1500 - val_accuracy: 0.9650\n",
            "Epoch 84/100\n",
            "7/7 [==============================] - 0s 7ms/step - loss: 0.1933 - accuracy: 0.9328 - val_loss: 0.1478 - val_accuracy: 0.9650\n",
            "Epoch 85/100\n",
            "7/7 [==============================] - 0s 6ms/step - loss: 0.1972 - accuracy: 0.9356 - val_loss: 0.1468 - val_accuracy: 0.9650\n",
            "Epoch 86/100\n",
            "7/7 [==============================] - 0s 8ms/step - loss: 0.1964 - accuracy: 0.9413 - val_loss: 0.1461 - val_accuracy: 0.9580\n",
            "Epoch 87/100\n",
            "7/7 [==============================] - 0s 6ms/step - loss: 0.1945 - accuracy: 0.9374 - val_loss: 0.1451 - val_accuracy: 0.9580\n",
            "Epoch 88/100\n",
            "7/7 [==============================] - 0s 6ms/step - loss: 0.1959 - accuracy: 0.9337 - val_loss: 0.1441 - val_accuracy: 0.9650\n",
            "Epoch 89/100\n",
            "7/7 [==============================] - 0s 6ms/step - loss: 0.1703 - accuracy: 0.9462 - val_loss: 0.1427 - val_accuracy: 0.9650\n",
            "Epoch 90/100\n",
            "7/7 [==============================] - 0s 7ms/step - loss: 0.2067 - accuracy: 0.9108 - val_loss: 0.1435 - val_accuracy: 0.9720\n",
            "Epoch 91/100\n",
            "7/7 [==============================] - 0s 7ms/step - loss: 0.1895 - accuracy: 0.9378 - val_loss: 0.1402 - val_accuracy: 0.9650\n",
            "Epoch 92/100\n",
            "7/7 [==============================] - 0s 7ms/step - loss: 0.2057 - accuracy: 0.9439 - val_loss: 0.1389 - val_accuracy: 0.9650\n",
            "Epoch 93/100\n",
            "7/7 [==============================] - 0s 7ms/step - loss: 0.1889 - accuracy: 0.9333 - val_loss: 0.1374 - val_accuracy: 0.9650\n",
            "Epoch 94/100\n",
            "7/7 [==============================] - 0s 6ms/step - loss: 0.1831 - accuracy: 0.9327 - val_loss: 0.1361 - val_accuracy: 0.9580\n",
            "Epoch 95/100\n",
            "7/7 [==============================] - 0s 6ms/step - loss: 0.1777 - accuracy: 0.9426 - val_loss: 0.1366 - val_accuracy: 0.9650\n",
            "Epoch 96/100\n",
            "7/7 [==============================] - 0s 7ms/step - loss: 0.1843 - accuracy: 0.9382 - val_loss: 0.1365 - val_accuracy: 0.9720\n",
            "Epoch 97/100\n",
            "7/7 [==============================] - 0s 7ms/step - loss: 0.2144 - accuracy: 0.9120 - val_loss: 0.1349 - val_accuracy: 0.9720\n",
            "Epoch 98/100\n",
            "7/7 [==============================] - 0s 7ms/step - loss: 0.1944 - accuracy: 0.9339 - val_loss: 0.1328 - val_accuracy: 0.9650\n",
            "Epoch 99/100\n",
            "7/7 [==============================] - 0s 7ms/step - loss: 0.1794 - accuracy: 0.9365 - val_loss: 0.1311 - val_accuracy: 0.9580\n",
            "Epoch 100/100\n",
            "7/7 [==============================] - 0s 7ms/step - loss: 0.1677 - accuracy: 0.9550 - val_loss: 0.1292 - val_accuracy: 0.9580\n"
          ],
          "name": "stdout"
        }
      ]
    },
    {
      "cell_type": "code",
      "metadata": {
        "id": "9RpJtS9ykBPa",
        "colab": {
          "base_uri": "https://localhost:8080/",
          "height": 573
        },
        "outputId": "dc1157b6-3611-4fde-8f9d-098140edcebb"
      },
      "source": [
        "#plot the training and validation accuracy and loss at each epoch\n",
        "loss = history.history['loss']\n",
        "val_loss = history.history['val_loss']\n",
        "epochs = range(1, len(loss) + 1)\n",
        "plt.plot(epochs, loss, 'y', label='Training loss')\n",
        "plt.plot(epochs, val_loss, 'r', label='Validation loss')\n",
        "plt.title('Training and validation loss')\n",
        "plt.xlabel('Epochs')\n",
        "plt.ylabel('Loss')\n",
        "plt.legend()\n",
        "plt.show()\n",
        "\n",
        "\n",
        "acc = history.history['accuracy']  #Use accuracy if acc doesn't work\n",
        "val_acc = history.history['val_accuracy']  #Use val_accuracy if acc doesn't work\n",
        "plt.plot(epochs, acc, 'y', label='Training acc')\n",
        "plt.plot(epochs, val_acc, 'r', label='Validation acc')\n",
        "plt.title('Training and validation accuracy')\n",
        "plt.xlabel('Epochs')\n",
        "plt.ylabel('Accuracy')\n",
        "plt.legend()\n",
        "plt.show()"
      ],
      "execution_count": null,
      "outputs": [
        {
          "output_type": "display_data",
          "data": {
            "image/png": "[encoded data removed]",
            "text/plain": [
              "<Figure size 432x288 with 1 Axes>"
            ]
          },
          "metadata": {
            "tags": [],
            "needs_background": "light"
          }
        },
        {
          "output_type": "display_data",
          "data": {
            "image/png": "[encoded data removed]",
            "text/plain": [
              "<Figure size 432x288 with 1 Axes>"
            ]
          },
          "metadata": {
            "tags": [],
            "needs_background": "light"
          }
        }
      ]
    },
    {
      "cell_type": "code",
      "metadata": {
        "id": "_TNdPFTnkIu6",
        "colab": {
          "base_uri": "https://localhost:8080/",
          "height": 282
        },
        "outputId": "d94152e1-2b0f-461a-8a64-4cebb54584fe"
      },
      "source": [
        "# Predicting the Test set results\n",
        "y_pred = model.predict(X_test)\n",
        "y_pred = (y_pred > 0.5)\n",
        "\n",
        "# Making the Confusion Matrix\n",
        "from sklearn.metrics import confusion_matrix\n",
        "cm = confusion_matrix(y_test, y_pred)\n",
        "\n",
        "sns.heatmap(cm, annot=True)"
      ],
      "execution_count": null,
      "outputs": [
        {
          "output_type": "execute_result",
          "data": {
            "text/plain": [
              "<matplotlib.axes._subplots.AxesSubplot at 0x7f66a4cdcb10>"
            ]
          },
          "metadata": {
            "tags": []
          },
          "execution_count": 25
        },
        {
          "output_type": "display_data",
          "data": {
            "image/png": "[encoded data removed]",
            "text/plain": [
              "<Figure size 432x288 with 2 Axes>"
            ]
          },
          "metadata": {
            "tags": [],
            "needs_background": "light"
          }
        }
      ]
    }
  ]
}